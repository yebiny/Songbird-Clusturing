{
 "cells": [
  {
   "cell_type": "code",
   "execution_count": 35,
   "metadata": {},
   "outputs": [],
   "source": [
    "import os, sys, glob\n",
    "from tensorflow.keras import layers, models, optimizers\n",
    "from sklearn.model_selection import train_test_split\n",
    "import tensorflow.keras.backend as K\n",
    "from tensorflow.keras.layers import Conv1D\n",
    "import tensorflow.keras.utils as conv_utils \n",
    "import tensorflow as tf\n",
    "from tensorflow.keras.regularizers import l2"
   ]
  },
  {
   "cell_type": "code",
   "execution_count": 43,
   "metadata": {},
   "outputs": [],
   "source": [
    "def asymmetric_temporal_padding(x, left_pad=1, right_pad=1):\n",
    "    '''Pad the middle dimension of a 3D tensor\n",
    "    with \"left_pad\" zeros left and \"right_pad\" right.\n",
    "    '''\n",
    "    pattern = [[0, 0], [left_pad, right_pad], [0, 0]]\n",
    "    return tf.pad(x, pattern)\n",
    "\n",
    "\n",
    "class CausalAtrousConvolution1D(Conv1D):\n",
    "    def __init__(self, filters, kernel_size, \n",
    "                 init='glorot_uniform', activation=None,\n",
    "                 padding='valid', strides=1, \n",
    "                 dilation_rate=1, bias_regularizer=None,\n",
    "                 activity_regularizer=None, kernel_constraint=None,\n",
    "                 bias_constraint=None, use_bias=True, causal=False, **kwargs):\n",
    "        \n",
    "        super(CausalAtrousConvolution1D, self).__init__(filters,\n",
    "                                                        kernel_size=kernel_size,\n",
    "                                                        strides=strides,\n",
    "                                                        padding=padding,\n",
    "                                                        dilation_rate=dilation_rate,\n",
    "                                                        activation=activation,\n",
    "                                                        use_bias=use_bias,\n",
    "                                                        kernel_initializer=init,\n",
    "                                                        activity_regularizer=activity_regularizer,\n",
    "                                                        bias_regularizer=bias_regularizer,\n",
    "                                                        kernel_constraint=kernel_constraint,\n",
    "                                                        bias_constraint=bias_constraint,\n",
    "                                                        **kwargs)\n",
    "\n",
    "        self.causal = causal\n",
    "        if self.causal and padding != 'valid':\n",
    "            raise ValueError(\"Causal mode dictates border_mode=valid.\")\n",
    "\n",
    "    def compute_output_shape(self, input_shape):\n",
    "        input_length = input_shape[1]\n",
    "\n",
    "        if self.causal:\n",
    "            input_length += self.dilation_rate[0] * (self.kernel_size[0] - 1)\n",
    "\n",
    "        length = conv_output_length(input_length,\n",
    "                                    self.kernel_size[0],\n",
    "                                    self.padding,\n",
    "                                    self.strides[0],\n",
    "                                    dilation=self.dilation_rate[0])\n",
    "\n",
    "        return (input_shape[0], length, self.filters)\n",
    "\n",
    "    def call(self, x):\n",
    "        if self.causal:\n",
    "            x = asymmetric_temporal_padding(x, self.dilation_rate[0] * (self.kernel_size[0] - 1), 0)\n",
    "        return super(CausalAtrousConvolution1D, self).call(x)"
   ]
  },
  {
   "cell_type": "code",
   "execution_count": 46,
   "metadata": {},
   "outputs": [],
   "source": [
    "def residual_block(x, nb_filters, i, res_l2=0, use_bias=False):\n",
    "    x_org=x\n",
    "    f = CausalAtrousConvolution1D(nb_filters, 2, dilation_rate=2 ** i, \n",
    "                                  padding='valid', causal=True, use_bias=use_bias,\n",
    "                                  name='dilated_conv_%d_tanh' % (2 ** i), \n",
    "                                  activation='tanh',\n",
    "                                  kernel_regularizer=l2(res_l2))(x)\n",
    "    \n",
    "    g = CausalAtrousConvolution1D(nb_filters, 2, dilation_rate=2 ** i, \n",
    "                                  padding='valid', causal=True, use_bias=use_bias,\n",
    "                                  name='dilated_conv_%d_sigmoid' % (2 ** i), \n",
    "                                  activation='sigmoid',\n",
    "                                  kernel_regularizer=l2(res_l2))(x)\n",
    "\n",
    "    z = layers.Multiply()([f,g])\n",
    "    z = layers.Convolution1D(nb_filters, 1, \n",
    "                             padding='same', \n",
    "                             use_bias=use_bias,\n",
    "                             kernel_regularizer=l2(res_l2))(x)\n",
    "\n",
    "    y = layers.Add()([x_org, z])\n",
    "    \n",
    "    return z, y"
   ]
  },
  {
   "cell_type": "code",
   "execution_count": 48,
   "metadata": {},
   "outputs": [],
   "source": [
    "x = layers.Input(shape=(1200,1))\n",
    "z1, y1 = residual_block(x, 10, 1)\n",
    "z2, y2 = residual_block(y1, 10, 2)\n",
    "z3, y3 = residual_block(y2,10, 4)\n",
    "model = models.Model(x, y3)"
   ]
  },
  {
   "cell_type": "code",
   "execution_count": 49,
   "metadata": {},
   "outputs": [
    {
     "name": "stdout",
     "output_type": "stream",
     "text": [
      "Model: \"model\"\n",
      "__________________________________________________________________________________________________\n",
      "Layer (type)                    Output Shape         Param #     Connected to                     \n",
      "==================================================================================================\n",
      "input_14 (InputLayer)           [(None, 1200, 1)]    0                                            \n",
      "__________________________________________________________________________________________________\n",
      "conv1d_4 (Conv1D)               (None, 1200, 10)     10          input_14[0][0]                   \n",
      "__________________________________________________________________________________________________\n",
      "add_4 (Add)                     (None, 1200, 10)     0           input_14[0][0]                   \n",
      "                                                                 conv1d_4[0][0]                   \n",
      "__________________________________________________________________________________________________\n",
      "conv1d_5 (Conv1D)               (None, 1200, 10)     100         add_4[0][0]                      \n",
      "__________________________________________________________________________________________________\n",
      "add_5 (Add)                     (None, 1200, 10)     0           add_4[0][0]                      \n",
      "                                                                 conv1d_5[0][0]                   \n",
      "__________________________________________________________________________________________________\n",
      "conv1d_6 (Conv1D)               (None, 1200, 10)     100         add_5[0][0]                      \n",
      "__________________________________________________________________________________________________\n",
      "add_6 (Add)                     (None, 1200, 10)     0           add_5[0][0]                      \n",
      "                                                                 conv1d_6[0][0]                   \n",
      "==================================================================================================\n",
      "Total params: 210\n",
      "Trainable params: 210\n",
      "Non-trainable params: 0\n",
      "__________________________________________________________________________________________________\n"
     ]
    }
   ],
   "source": [
    "model.summary()"
   ]
  },
  {
   "cell_type": "code",
   "execution_count": null,
   "metadata": {},
   "outputs": [],
   "source": []
  }
 ],
 "metadata": {
  "kernelspec": {
   "display_name": "Python 3",
   "language": "python",
   "name": "python3"
  },
  "language_info": {
   "codemirror_mode": {
    "name": "ipython",
    "version": 3
   },
   "file_extension": ".py",
   "mimetype": "text/x-python",
   "name": "python",
   "nbconvert_exporter": "python",
   "pygments_lexer": "ipython3",
   "version": "3.7.4"
  },
  "toc": {
   "base_numbering": 1,
   "nav_menu": {},
   "number_sections": true,
   "sideBar": true,
   "skip_h1_title": false,
   "title_cell": "Table of Contents",
   "title_sidebar": "Contents",
   "toc_cell": false,
   "toc_position": {},
   "toc_section_display": true,
   "toc_window_display": false
  }
 },
 "nbformat": 4,
 "nbformat_minor": 4
}
